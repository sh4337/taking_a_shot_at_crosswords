{
  "nbformat": 4,
  "nbformat_minor": 0,
  "metadata": {
    "colab": {
      "name": "analysis.ipynb",
      "provenance": []
    },
    "kernelspec": {
      "name": "python3",
      "display_name": "Python 3"
    },
    "language_info": {
      "name": "python"
    }
  },
  "cells": [
    {
      "cell_type": "code",
      "execution_count": 1,
      "metadata": {
        "id": "LDj7zFHG564s"
      },
      "outputs": [],
      "source": [
        "import pandas as pd\n",
        "import numpy as np\n",
        "from numpy.random import rand\n",
        "from tqdm.notebook import tqdm\n",
        "from random import randint\n",
        "import inflect"
      ]
    },
    {
      "cell_type": "code",
      "source": [
        "from google.colab import drive\n",
        "drive.mount('/content/drive')"
      ],
      "metadata": {
        "colab": {
          "base_uri": "https://localhost:8080/"
        },
        "id": "oPwbwt0u6DAQ",
        "outputId": "7c1a4e35-01cb-4507-96fe-adfee95274da"
      },
      "execution_count": 3,
      "outputs": [
        {
          "output_type": "stream",
          "name": "stdout",
          "text": [
            "Mounted at /content/drive\n"
          ]
        }
      ]
    },
    {
      "cell_type": "code",
      "source": [
        "### 10k samples, only ran for zero shot and one shot\n",
        "master10=pd.read_csv(\"/content/drive/MyDrive/Crosswords/full_10k_sample_fs_1.csv\", encoding='cp1252',index_col=0) #change_path\n",
        "### 5k samples, ran for zero shot, one shot and three shot\n",
        "master5=pd.read_csv(\"/content/drive/MyDrive/Crosswords/full_5k_sample_fs.csv\", encoding='cp1252',index_col=0) #change path"
      ],
      "metadata": {
        "id": "E2K-_MbX6Ffu"
      },
      "execution_count": 4,
      "outputs": []
    },
    {
      "cell_type": "code",
      "source": [
        "master10.columns"
      ],
      "metadata": {
        "colab": {
          "base_uri": "https://localhost:8080/"
        },
        "id": "KtUNMRVR6ffj",
        "outputId": "48c3339b-12a6-466b-872d-84e6d574a2c4"
      },
      "execution_count": 5,
      "outputs": [
        {
          "output_type": "execute_result",
          "data": {
            "text/plain": [
              "Index(['index', 'date', 'answer', 'clue', 'answer_length', 'baseline_prompt',\n",
              "       'baseline_prompt_output', 'random', 'random_ordinal', 'random_letter',\n",
              "       'constrained_prompt', 'constrained_prompt_output', 'fs_random',\n",
              "       'fs_random_ordinal', 'fs_random_letter', 'few_shot_constrained_1',\n",
              "       'few_shot_constrained_1_output', 'few_shot_baseline_1',\n",
              "       'few_shot_baseline_1_output'],\n",
              "      dtype='object')"
            ]
          },
          "metadata": {},
          "execution_count": 5
        }
      ]
    },
    {
      "cell_type": "code",
      "source": [
        "##EVAL FUNCTIONS\n",
        "def acc_eval(df,batch_output_column_name):\n",
        "    acc=np.sum(df['answer']==df[batch_output_column_name])/len(df)\n",
        "    return acc\n",
        "\n",
        "def percent_punct(df,batch_output_column_name):\n",
        "    df['no_punct'] = df[batch_output_column_name].apply(lambda x:str(x).isalpha())\n",
        "    punt_percent=1-np.sum(df['no_punct'])/len(df)\n",
        "    return punt_percent\n",
        "\n",
        "def acc_norm_eval(df,batch_output_column_name):\n",
        "    #df['cleaned_output']=df[batch_output_column_name].str.replace(r'[\\W\\s]+', '')\n",
        "    df['cleaned_output']=df[batch_output_column_name].apply(lambda x: strip_punct(str(x)))\n",
        "    acc_norm=np.sum(df['answer']==df['cleaned_output'])/len(df)\n",
        "    return acc_norm\n",
        "\n",
        "def letter_match(df,batch_output_column_name):\n",
        "    df['output_length'] = df[batch_output_column_name].apply(lambda x:len(str(x)))\n",
        "    match=np.sum(df[\"output_length\"]==df['answer_length'])/len(df)\n",
        "    return match\n",
        "\n",
        "def norm_letter_match(df,batch_output_column_name):\n",
        "    df['cleaned_output']=df[batch_output_column_name].apply(lambda x: strip_punct(str(x)))\n",
        "    df['output_length'] = df['cleaned_output'].apply(lambda x:len(str(x)))\n",
        "    match=np.sum(df[\"output_length\"]==df['answer_length'])/len(df)\n",
        "    return match\n",
        "\n",
        "\n",
        "def strip_punct(s):\n",
        "    s = ''.join(filter(str.isalnum, s)).lower()\n",
        "    return s\n",
        "  \n",
        "def constraint_match(df,batch_output_column_name, is_fs=None):\n",
        "    ### matches in letter and matches with the letter at the right spot\n",
        "    if is_fs is None:\n",
        "      is_fs = 'few_shot' in batch_output_column_name\n",
        "    if is_fs:\n",
        "      random_col = 'fs_random'\n",
        "    else:\n",
        "      random_col = 'random'\n",
        "      \n",
        "    df['constrained_output_letter'] = [str(row[batch_output_column_name])[row[random_col]-1] if row[random_col] <= len(str(row[batch_output_column_name])) else None for _, row in df.iterrows()]\n",
        "    df['is_match'] = df['{}_letter'.format(random_col)].eq(df['constrained_output_letter'])\n",
        "    match = np.sum(df['is_match']) / len(df)\n",
        "    return match\n",
        "\n",
        "def constraint_norm_match(df,batch_output_column_name):\n",
        "    ### matches in letter and matches with the letter at the right spot\n",
        "    ## TO-DO\n",
        "    df['cleaned_output'] = df[batch_output_column_name].apply(lambda x: strip_punct(str(x)))\n",
        "    is_fs = 'few_shot' in batch_output_column_name\n",
        "    return constraint_match(df, 'cleaned_output', is_fs)"
      ],
      "metadata": {
        "id": "R6I5Qw5m6HZX"
      },
      "execution_count": 6,
      "outputs": []
    },
    {
      "cell_type": "code",
      "source": [
        "print(\"EM ACCURACY\")\n",
        "### Running accurcy for 10k samples\n",
        "prompt_type_10=['baseline_prompt_output','constrained_prompt_output', 'few_shot_baseline_1_output','few_shot_constrained_1_output']\n",
        "for prompt in prompt_type_10:\n",
        "  print(prompt)\n",
        "  print(acc_eval(master10,prompt))\n",
        "print(\"-------\")\n",
        "### running accuracy for 5k samples: \n",
        "prompt_type_5=['baseline_prompt_output','constrained_prompt_output', 'few_shot_baseline_1_output','few_shot_constrained_1_output','few_shot_baseline_3_output','few_shot_constrained_3_output']\n",
        "for prompt in prompt_type_5:\n",
        "  print(prompt)\n",
        "  print(acc_eval(master5,prompt))"
      ],
      "metadata": {
        "colab": {
          "base_uri": "https://localhost:8080/"
        },
        "id": "Qztz67uv6byP",
        "outputId": "c3bdf7dd-5c54-4a90-a67a-fd843d389389"
      },
      "execution_count": 7,
      "outputs": [
        {
          "output_type": "stream",
          "name": "stdout",
          "text": [
            "EM ACCURACY\n",
            "baseline_prompt_output\n",
            "0.2135\n",
            "constrained_prompt_output\n",
            "0.2706\n",
            "few_shot_baseline_1_output\n",
            "0.3304\n",
            "few_shot_constrained_1_output\n",
            "0.3594\n",
            "-------\n",
            "baseline_prompt_output\n",
            "0.2144\n",
            "constrained_prompt_output\n",
            "0.2774\n",
            "few_shot_baseline_1_output\n",
            "0.3374\n",
            "few_shot_constrained_1_output\n",
            "0.362\n",
            "few_shot_baseline_3_output\n",
            "0.3582\n",
            "few_shot_constrained_3_output\n",
            "0.3756\n"
          ]
        }
      ]
    },
    {
      "cell_type": "code",
      "source": [
        "print(\"EM NORM\") #Accuracy after striping punctuation and spaces\n",
        "prompt_type_10=['baseline_prompt_output','constrained_prompt_output', 'few_shot_baseline_1_output','few_shot_constrained_1_output']\n",
        "for prompt in prompt_type_10:\n",
        "  print(prompt)\n",
        "  print(acc_norm_eval(master10,prompt))\n",
        "print(\"-------\")\n",
        "### running accuracy for 5k samples: \n",
        "prompt_type_5=['baseline_prompt_output','constrained_prompt_output', 'few_shot_baseline_1_output','few_shot_constrained_1_output','few_shot_baseline_3_output','few_shot_constrained_3_output']\n",
        "for prompt in prompt_type_5:\n",
        "  print(prompt)\n",
        "  print(acc_norm_eval(master5,prompt))"
      ],
      "metadata": {
        "colab": {
          "base_uri": "https://localhost:8080/"
        },
        "id": "ojCM22Ix7Jb5",
        "outputId": "374637c9-947a-476e-f14d-cefb7c5312da"
      },
      "execution_count": 8,
      "outputs": [
        {
          "output_type": "stream",
          "name": "stdout",
          "text": [
            "EM NORM\n",
            "baseline_prompt_output\n",
            "0.2867\n",
            "constrained_prompt_output\n",
            "0.3325\n",
            "few_shot_baseline_1_output\n",
            "0.3499\n",
            "few_shot_constrained_1_output\n",
            "0.3768\n",
            "-------\n",
            "baseline_prompt_output\n",
            "0.2904\n",
            "constrained_prompt_output\n",
            "0.3386\n",
            "few_shot_baseline_1_output\n",
            "0.3554\n",
            "few_shot_constrained_1_output\n",
            "0.3762\n",
            "few_shot_baseline_3_output\n",
            "0.3756\n",
            "few_shot_constrained_3_output\n",
            "0.3892\n"
          ]
        }
      ]
    },
    {
      "cell_type": "code",
      "source": [
        "print(\"PERCENT PUNCTUATION\") ## 1 shot was effective in showing gpt that answers do not contain punctuation\n",
        "prompt_type_10=['baseline_prompt_output','constrained_prompt_output', 'few_shot_baseline_1_output','few_shot_constrained_1_output']\n",
        "for prompt in prompt_type_10:\n",
        "  print(prompt)\n",
        "  print(percent_punct(master10,prompt))\n",
        "print(\"-------\")\n",
        "### running accuracy for 5k samples: \n",
        "prompt_type_5=['baseline_prompt_output','constrained_prompt_output', 'few_shot_baseline_1_output','few_shot_constrained_1_output','few_shot_baseline_3_output','few_shot_constrained_3_output']\n",
        "for prompt in prompt_type_5:\n",
        "  print(prompt)\n",
        "  print(percent_punct(master5,prompt))"
      ],
      "metadata": {
        "colab": {
          "base_uri": "https://localhost:8080/"
        },
        "id": "t4Ga_2_W9E0f",
        "outputId": "4325615f-8db2-456e-d0a6-342297e78ee6"
      },
      "execution_count": 9,
      "outputs": [
        {
          "output_type": "stream",
          "name": "stdout",
          "text": [
            "PERCENT PUNCTUATION\n",
            "baseline_prompt_output\n",
            "0.39349999999999996\n",
            "constrained_prompt_output\n",
            "0.3116\n",
            "few_shot_baseline_1_output\n",
            "0.06879999999999997\n",
            "few_shot_constrained_1_output\n",
            "0.06669999999999998\n",
            "-------\n",
            "baseline_prompt_output\n",
            "0.39239999999999997\n",
            "constrained_prompt_output\n",
            "0.3014\n",
            "few_shot_baseline_1_output\n",
            "0.06340000000000001\n",
            "few_shot_constrained_1_output\n",
            "0.059599999999999986\n",
            "few_shot_baseline_3_output\n",
            "0.07120000000000004\n",
            "few_shot_constrained_3_output\n",
            "0.06920000000000004\n"
          ]
        }
      ]
    },
    {
      "cell_type": "code",
      "source": [
        "print(\"LETTER MATCH\") ## more examples allowed model to learn importance of letter size clue\n",
        "prompt_type_10=['baseline_prompt_output','constrained_prompt_output', 'few_shot_baseline_1_output','few_shot_constrained_1_output']\n",
        "for prompt in prompt_type_10:\n",
        "  print(prompt)\n",
        "  print(letter_match(master10,prompt))\n",
        "print(\"-------\")\n",
        "### running accuracy for 5k samples: \n",
        "prompt_type_5=['baseline_prompt_output','constrained_prompt_output', 'few_shot_baseline_1_output','few_shot_constrained_1_output','few_shot_baseline_3_output','few_shot_constrained_3_output']\n",
        "for prompt in prompt_type_5:\n",
        "  print(prompt)\n",
        "  print(letter_match(master5,prompt))"
      ],
      "metadata": {
        "colab": {
          "base_uri": "https://localhost:8080/"
        },
        "id": "X-C6e31x9c89",
        "outputId": "db9fa12c-0428-4cc9-e8e5-d35a550f58ab"
      },
      "execution_count": 10,
      "outputs": [
        {
          "output_type": "stream",
          "name": "stdout",
          "text": [
            "LETTER MATCH\n",
            "baseline_prompt_output\n",
            "0.4958\n",
            "constrained_prompt_output\n",
            "0.5317\n",
            "few_shot_baseline_1_output\n",
            "0.6742\n",
            "few_shot_constrained_1_output\n",
            "0.6811\n",
            "-------\n",
            "baseline_prompt_output\n",
            "0.4956\n",
            "constrained_prompt_output\n",
            "0.5408\n",
            "few_shot_baseline_1_output\n",
            "0.681\n",
            "few_shot_constrained_1_output\n",
            "0.6926\n",
            "few_shot_baseline_3_output\n",
            "0.66\n",
            "few_shot_constrained_3_output\n",
            "0.6792\n"
          ]
        }
      ]
    },
    {
      "cell_type": "code",
      "source": [
        "print(\"Norm LETTER MATCH\") ## more examples allowed model to learn importance of letter size clue\n",
        "prompt_type_10=['baseline_prompt_output','constrained_prompt_output', 'few_shot_baseline_1_output','few_shot_constrained_1_output']\n",
        "for prompt in prompt_type_10:\n",
        "  print(prompt)\n",
        "  print(norm_letter_match(master10,prompt))\n",
        "print(\"-------\")\n",
        "### running accuracy for 5k samples: \n",
        "prompt_type_5=['baseline_prompt_output','constrained_prompt_output', 'few_shot_baseline_1_output','few_shot_constrained_1_output','few_shot_baseline_3_output','few_shot_constrained_3_output']\n",
        "for prompt in prompt_type_5:\n",
        "  print(prompt)\n",
        "  print(norm_letter_match(master5,prompt))"
      ],
      "metadata": {
        "colab": {
          "base_uri": "https://localhost:8080/"
        },
        "id": "KfM_6nEi1wRp",
        "outputId": "90a749b2-4085-4b6b-bd23-a44eccc9a9b1"
      },
      "execution_count": 11,
      "outputs": [
        {
          "output_type": "stream",
          "name": "stdout",
          "text": [
            "Norm LETTER MATCH\n",
            "baseline_prompt_output\n",
            "0.6321\n",
            "constrained_prompt_output\n",
            "0.6366\n",
            "few_shot_baseline_1_output\n",
            "0.6956\n",
            "few_shot_constrained_1_output\n",
            "0.698\n",
            "-------\n",
            "baseline_prompt_output\n",
            "0.6354\n",
            "constrained_prompt_output\n",
            "0.6456\n",
            "few_shot_baseline_1_output\n",
            "0.6984\n",
            "few_shot_constrained_1_output\n",
            "0.707\n",
            "few_shot_baseline_3_output\n",
            "0.6778\n",
            "few_shot_constrained_3_output\n",
            "0.6942\n"
          ]
        }
      ]
    },
    {
      "cell_type": "code",
      "source": [
        "# calculate constraint match for constrained prompts\n",
        "print(\"CONSTRAINT NORM MATCH\") \n",
        "prompt_type_10=['constrained_prompt_output', 'few_shot_constrained_1_output']\n",
        "for prompt in prompt_type_10:\n",
        "  print(prompt)\n",
        "  print(constraint_norm_match(master10,prompt))\n",
        "print(\"-------\")\n",
        "### running accuracy for 5k samples: \n",
        "prompt_type_5=['constrained_prompt_output', 'few_shot_constrained_3_output']\n",
        "for prompt in prompt_type_5:\n",
        "  print(prompt)\n",
        "  print(constraint_norm_match(master5,prompt))"
      ],
      "metadata": {
        "id": "8tEd04NT-dNg",
        "colab": {
          "base_uri": "https://localhost:8080/"
        },
        "outputId": "ed87b45f-e5e1-4907-b6e3-2b4a75bcf67a"
      },
      "execution_count": 12,
      "outputs": [
        {
          "output_type": "stream",
          "name": "stdout",
          "text": [
            "CONSTRAINT NORM MATCH\n",
            "constrained_prompt_output\n",
            "0.5298\n",
            "few_shot_constrained_1_output\n",
            "0.5749\n",
            "-------\n",
            "constrained_prompt_output\n",
            "0.535\n",
            "few_shot_constrained_3_output\n",
            "0.5708\n"
          ]
        }
      ]
    },
    {
      "cell_type": "code",
      "source": [
        "# calculate constraint match for constrained prompts\n",
        "print(\"CONSTRAINT MATCH\") \n",
        "prompt_type_10=['constrained_prompt_output', 'few_shot_constrained_1_output']\n",
        "for prompt in prompt_type_10:\n",
        "  print(prompt)\n",
        "  print(constraint_match(master10,prompt))\n",
        "print(\"-------\")\n",
        "### running accuracy for 5k samples: \n",
        "prompt_type_5=['constrained_prompt_output', 'few_shot_constrained_3_output']\n",
        "for prompt in prompt_type_5:\n",
        "  print(prompt)\n",
        "  print(constraint_match(master5,prompt))"
      ],
      "metadata": {
        "colab": {
          "base_uri": "https://localhost:8080/"
        },
        "id": "dTbTzjLmv1eo",
        "outputId": "daf72360-45a1-4b21-bfcd-1d9ceb7142ea"
      },
      "execution_count": 13,
      "outputs": [
        {
          "output_type": "stream",
          "name": "stdout",
          "text": [
            "CONSTRAINT MATCH\n",
            "constrained_prompt_output\n",
            "0.5147\n",
            "few_shot_constrained_1_output\n",
            "0.5667\n",
            "-------\n",
            "constrained_prompt_output\n",
            "0.5226\n",
            "few_shot_constrained_3_output\n",
            "0.5642\n"
          ]
        }
      ]
    }
  ]
}