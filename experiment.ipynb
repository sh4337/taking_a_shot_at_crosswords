{
  "nbformat": 4,
  "nbformat_minor": 0,
  "metadata": {
    "colab": {
      "name": "Experiment.ipynb",
      "provenance": [],
      "collapsed_sections": []
    },
    "kernelspec": {
      "name": "python3",
      "display_name": "Python 3"
    },
    "language_info": {
      "name": "python"
    }
  },
  "cells": [
    {
      "cell_type": "markdown",
      "source": [
        "## **Import Packages & Load Data** "
      ],
      "metadata": {
        "id": "RzXFVLFYuyZ8"
      }
    },
    {
      "cell_type": "code",
      "source": [
        "!pip install openai\n",
        "!pip install tqdm\n",
        "!pip install inflect\n",
        "import os\n",
        "import openai\n",
        "\n",
        "import pandas as pd\n",
        "import numpy as np\n",
        "from numpy.random import rand\n",
        "from tqdm.notebook import tqdm\n",
        "from random import randint\n",
        "import inflect\n",
        "### get api_key from openai account-->API Keys.\n",
        "openai.api_key = \"\""
      ],
      "metadata": {
        "id": "j4zFzvRrurL8"
      },
      "execution_count": null,
      "outputs": []
    },
    {
      "cell_type": "markdown",
      "source": [
        "**Load Dataset**\n",
        "*   Option A: find nytcrossword.csv in shared drive\n",
        "*   Option B: download data from kaggle and upload nytcrossword.csv to local drive"
      ],
      "metadata": {
        "id": "LMLd5IRMwteN"
      }
    },
    {
      "cell_type": "code",
      "source": [
        "from google.colab import drive\n",
        "drive.mount('/content/drive')"
      ],
      "metadata": {
        "id": "mgRRF9icJTv1"
      },
      "execution_count": null,
      "outputs": []
    },
    {
      "cell_type": "code",
      "source": [
        "### enter own path \n",
        "crosswords=pd.read_csv(\"/content/drive/MyDrive/Crosswords/nytcrosswords.csv\", encoding='cp1252')\n"
      ],
      "metadata": {
        "id": "y7-POEd-vfOg"
      },
      "execution_count": null,
      "outputs": []
    },
    {
      "cell_type": "markdown",
      "source": [
        "## **Data Prep**\n",
        "Preparing all the prompting types"
      ],
      "metadata": {
        "id": "I0b66GEgl6Nt"
      }
    },
    {
      "cell_type": "code",
      "source": [
        "data=crosswords.sample(n=10000, replace=False, random_state=2022).reset_index()"
      ],
      "metadata": {
        "id": "EkIVmYO7UW9T"
      },
      "execution_count": null,
      "outputs": []
    },
    {
      "cell_type": "code",
      "source": [
        "def add_punctuation(s):\n",
        "    s = s + '.' if s and s[-1] not in ('.', '!', '?') else s\n",
        "    return s\n",
        "\n",
        "### Initial Cleanup: drop duplicate, get answer length, fill in NULL answers as string NULL\n",
        "def initial_cleanup(df):\n",
        "    df.rename(columns={'Date':'date','Word':'answer','Clue':'clue'},inplace=True)\n",
        "    df.answer=df.answer.str.lower()\n",
        "    df.drop_duplicates(inplace=True)\n",
        "    df.date = pd.to_datetime(df.date)\n",
        "    df['answer_length'] = df.answer.apply(lambda x:len(str(x)))\n",
        "    for row in df[df.answer_length <= 1].index:\n",
        "        df.drop(row, inplace=True)\n",
        "    df.fillna('NULL', inplace=True)\n",
        "    df[\"clue\"]= df['clue'].apply(add_punctuation)\n",
        "    return df\n",
        "### data conatins cleaned 10k sample \n",
        "data=initial_cleanup(data)\n",
        "\n",
        "## crosswords has all the cleaned crosswords outside of 10k data sample\n",
        "crosswords=crosswords[~crosswords.index.isin(data[\"index\"].tolist())]\n",
        "crosswords=initial_cleanup(crosswords)"
      ],
      "metadata": {
        "id": "ZzGyqSd43b-E"
      },
      "execution_count": null,
      "outputs": []
    },
    {
      "cell_type": "markdown",
      "source": [
        "\n",
        "**Baseline Prompt**:\n",
        "\"Solve this crossword puzzle by providing a 4 letter response to the clue. Clue:________. Answer: "
      ],
      "metadata": {
        "id": "UQhcCS_uT6WD"
      }
    },
    {
      "cell_type": "code",
      "source": [
        "\n",
        "def baseline_prompt(df):\n",
        "  #function to create zero shot baseline prompt\n",
        "  df[\"baseline_prompt\"]=\"Solve this crossword puzzle by providing a \" + df['answer_length'].astype(str)+ \" letter response to the clue.\\n\\nClue: \"+ data['clue'].astype(str)+\"\\n\\nAnswer:\"\n",
        "\n",
        "  return df\n",
        "\n",
        "def get_samples(n):\n",
        "    #function to get few shot baseline prompt\n",
        "    s=crosswords.sample(n).reset_index()\n",
        "    samples=\"\"\n",
        "    for i in range(n):\n",
        "        samples = samples +\"Solve this crossword puzzle by providing a \" + s['answer_length'][i].astype(str)+\\\n",
        "    \" letter response to the clue.\\n\\nClue: \"+ s['clue'][i]+\"\\n\\nAnswer: \"+ s[\"answer\"][i]+\"\\n\\n\"\n",
        "    return samples\n",
        "def few_shot_baseline_1(df,n):\n",
        "    #function to create one shot baseline prompt\n",
        "    for i in tqdm(range(len(df))):\n",
        "        samples=get_samples(n)\n",
        "        df.loc[i,\"few_shot_baseline_1\"]= samples +\"Solve this crossword puzzle by providing a \" + df['answer_length'][i].astype(str)+\\\n",
        "    \" letter response to the clue.\\n\\nClue: \"+ df['clue'][i]+\"\\n\\nAnswer:\"\n",
        "    return df\n",
        "\n",
        "def few_shot_baseline_3(df,n):\n",
        "    #function to create three shot baseline prompt\n",
        "    for i in tqdm(range(len(df))):\n",
        "        samples=get_samples(n)\n",
        "        df.loc[i,\"few_shot_baseline_3\"]= samples +\"Solve this crossword puzzle by providing a \" + df['answer_length'][i].astype(str)+\\\n",
        "    \" letter response to the clue.\\n\\nClue: \"+ df['clue'][i]+\"\\n\\nAnswer:\"\n",
        "    return df\n"
      ],
      "metadata": {
        "id": "XS_PK7FGcvVz"
      },
      "execution_count": null,
      "outputs": []
    },
    {
      "cell_type": "code",
      "source": [
        "### Formatting prompting, this can take awhile\n",
        "data=baseline_prompt(data)\n",
        "data=few_shot_baseline_1(data,1)\n",
        "data=few_shot_baseline_1(data,3)"
      ],
      "metadata": {
        "id": "kvBYGRMnhgA5"
      },
      "execution_count": null,
      "outputs": []
    },
    {
      "cell_type": "markdown",
      "source": [
        "**Constrained Prompt** \"Solve this crossword puzzle by providing a 4 letter response to the clue.  The Nth letter is X. Clue: _________. Answer:\""
      ],
      "metadata": {
        "id": "E_OZ6JHEUIXO"
      }
    },
    {
      "cell_type": "code",
      "source": [
        "p = inflect.engine()\n",
        "\n",
        "def constrained_prompt_pp(df):\n",
        "  #function to help set up zero shot constrained prompt \n",
        "    df[\"random\"]= [(np.random.randint(1,x+1))  for x in df.answer_length]\n",
        "    df[\"random_ordinal\"] = [p.ordinal(x) for x in df.random]\n",
        "    df[\"random_letter\"]=df.apply(lambda x : get_letter(x['answer'],x['random']),axis=1)\n",
        "    return df\n",
        "\n",
        "def constrained_prompt(df):\n",
        "    #function to set up zero shot constrained prompt \n",
        "    df[\"constrained_prompt\"]=\"Solve this crossword puzzle by providing a \" + \\\n",
        "                          df['answer_length'].astype(str)+ \\\n",
        "                          \" letter response to the clue. The \" + df[\"random_ordinal\"].astype(str)+ \" letter is \" + df[\"random_letter\"]+\\\n",
        "                          \".\\n\\nClue: \" + data['clue'].astype(str) + \"\\n\\nAnswer:\"\n",
        "                          #Solve this crossword puzzle by providing a 9 letter response to the clue. The 6th letter is p. Clue:__. Answer:\n",
        "    return df\n",
        "def get_letter(ans, position):\n",
        "    return ans[position-1]\n",
        "\n",
        "def fs_constrained_prompt_pp(df):\n",
        "    #function to help set up few shot constrained prompt \n",
        "    df[\"fs_random\"]= [(np.random.randint(1,x+1))  for x in df.answer_length]\n",
        "    df[\"fs_random_ordinal\"] = [p.ordinal(x) for x in df.fs_random]\n",
        "    df[\"fs_random_letter\"]=df.apply(lambda x : get_letter(x['answer'],x['fs_random']),axis=1)\n",
        "    return df\n",
        "\n",
        "def get_fs_samples(n):\n",
        "    #function to help set up few shot constrained prompt examples\n",
        "    s=crosswords.sample(n).reset_index() \n",
        "    s=fs_constrained_prompt_pp(s)\n",
        "    samples=\"\"\n",
        "    for i in range(n):\n",
        "        samples = samples +\"Solve this crossword puzzle by providing a \" + \\\n",
        "                          s['answer_length'][i].astype(str)+ \\\n",
        "                          \" letter response to the clue. The \" + s[\"fs_random_ordinal\"][i]+ \" letter is \" + s[\"fs_random_letter\"][i]+\\\n",
        "                          \".\\n\\nClue: \" + s['clue'][i] +\"\\n\\nAnswer:\"+ s[\"answer\"][i]+\"\\n\\n\"\n",
        "    return samples\n",
        "\n",
        "def few_shot_constrained_1(df,n):\n",
        "  #function to set up one shot constrained prompt \n",
        "  df=fs_constrained_prompt_pp(df)\n",
        "  for i in tqdm(range(len(df))):\n",
        "    samples=get_fs_samples(n)\n",
        "    df.loc[i,\"few_shot_constrained_1\"]= samples +\"Solve this crossword puzzle by providing a \" + \\\n",
        "                          df['answer_length'][i].astype(str)+ \" letter response to the clue. The \"+\\\n",
        "                            df[\"fs_random_ordinal\"][i]+ \" letter is \" + df[\"fs_random_letter\"][i]+\\\n",
        "                          \".\\n\\nClue: \" + df['clue'][i] + \"\\n\\nAnswer:\"\n",
        "    return df\n",
        "\n",
        "def few_shot_constrained_3(df,n):\n",
        "  #function to set up three shot constrained prompt \n",
        "  df=fs_constrained_prompt_pp(df)\n",
        "  for i in tqdm(range(len(df))):\n",
        "    samples=get_fs_samples(n)\n",
        "    df.loc[i,\"few_shot_constrained_3\"]= samples +\"Solve this crossword puzzle by providing a \" + \\\n",
        "                          df['answer_length'][i].astype(str)+ \" letter response to the clue. The \"+\\\n",
        "                            df[\"fs_random_ordinal\"][i]+ \" letter is \" + df[\"fs_random_letter\"][i]+\\\n",
        "                          \".\\n\\nClue: \" + df['clue'][i] + \"\\n\\nAnswer:\"\n",
        "  return df "
      ],
      "metadata": {
        "id": "KRiERLW8dJlj"
      },
      "execution_count": null,
      "outputs": []
    },
    {
      "cell_type": "code",
      "source": [
        "data=constrained_prompt(data)\n",
        "data=few_shot_constrained_1(data,1)\n",
        "data=few_shot_constrained_1(data,3)"
      ],
      "metadata": {
        "id": "ggHSQ1uMeadU"
      },
      "execution_count": null,
      "outputs": []
    },
    {
      "cell_type": "code",
      "source": [
        "data.head()"
      ],
      "metadata": {
        "id": "vbF8EClcnSCw"
      },
      "execution_count": null,
      "outputs": []
    },
    {
      "cell_type": "markdown",
      "source": [
        "# InstructGPT \n",
        "Feeding prompts to InstructGPT and saving results.\n",
        "\n"
      ],
      "metadata": {
        "id": "PZu8KCZMklDk"
      }
    },
    {
      "cell_type": "markdown",
      "source": [
        "### **Batch Prompting Functions**"
      ],
      "metadata": {
        "id": "4UxtHt5bO0uo"
      }
    },
    {
      "cell_type": "code",
      "source": [
        "def run_batch_deterministic(df,prompts):\n",
        "  df=df.reset_index()\n",
        "  for prompt in prompts:\n",
        "    print('running for:',prompt)\n",
        "    df[f\"{prompt}_output\"] = \" \"\n",
        "    for i in tqdm(range(len(df))):\n",
        "        baseline_response = openai.Completion.create(\n",
        "                    engine=\"text-davinci-002\",\n",
        "                    prompt=df.loc[i][prompt],\n",
        "                    temperature=0,\n",
        "                    #max_tokens=5,\n",
        "                    top_p=1,\n",
        "                    frequency_penalty=0,\n",
        "                    presence_penalty=0)\n",
        "        #print('got resp:',i)\n",
        "        df.at[i,f\"{prompt}_output\"]=baseline_response[\"choices\"][0][\"text\"].strip().lower()\n",
        "  return df.copy()\n"
      ],
      "metadata": {
        "id": "ovhFDEGCQlQC"
      },
      "execution_count": null,
      "outputs": []
    },
    {
      "cell_type": "code",
      "source": [
        "### Breaking up sample to batches in case runtime breaks or openAI sever goes down\n",
        "sample1=data.iloc[:1000,:]\n",
        "sample2=data.iloc[1000:2000,:]\n",
        "sample3=data.iloc[2000:3000,:]\n",
        "sample4=data.iloc[3000:4000,:]\n",
        "sample5=data.iloc[4000:5000,:]\n",
        "sample6=data.iloc[5000:6000,:]\n",
        "sample7=data.iloc[6000:7000,:]\n",
        "sample8=data.iloc[7000:8000,:]\n",
        "sample9=data.iloc[8000:9000,:]\n",
        "sample10=data.iloc[9000:,:]"
      ],
      "metadata": {
        "id": "ZGa13Zb55vTk"
      },
      "execution_count": null,
      "outputs": []
    },
    {
      "cell_type": "markdown",
      "source": [
        "## **Zero Shot**"
      ],
      "metadata": {
        "id": "kj9BAuowwkpK"
      }
    },
    {
      "cell_type": "code",
      "source": [
        "batch_results_1=run_batch_deterministic(sample1,['baseline_prompt'])\n",
        "batch_results_1.to_csv(\"/content/drive/MyDrive/Crosswords/baseline_results_1.csv\", encoding='cp1252')\n",
        "batch_results_2=run_batch_deterministic(sample2,['baseline_prompt'])\n",
        "batch_results_2.to_csv(\"/content/drive/MyDrive/Crosswords/baseline_results_2.csv\", encoding='cp1252')\n",
        "batch_results_3=run_batch_deterministic(sample3,['baseline_prompt'])\n",
        "batch_results_3.to_csv(\"/content/drive/MyDrive/Crosswords/baseline_results_3.csv\", encoding='cp1252')\n",
        "batch_results_4=run_batch_deterministic(sample4,['baseline_prompt'])\n",
        "batch_results_4.to_csv(\"/content/drive/MyDrive/Crosswords/baseline_results_4.csv\", encoding='cp1252')\n",
        "batch_results_5=run_batch_deterministic(sample5,['baseline_prompt'])\n",
        "batch_results_5.to_csv(\"/content/drive/MyDrive/Crosswords/baseline_results_5.csv\", encoding='cp1252')\n",
        "batch_results_6=run_batch_deterministic(sample6,['baseline_prompt'])\n",
        "batch_results_6.to_csv(\"/content/drive/MyDrive/Crosswords/baseline_results_6.csv\", encoding='cp1252')\n",
        "batch_results_7=run_batch_deterministic(sample7,['baseline_prompt'])\n",
        "batch_results_7.to_csv(\"/content/drive/MyDrive/Crosswords/baseline_results_7.csv\", encoding='cp1252')\n",
        "batch_results_8=run_batch_deterministic(sample8,['baseline_prompt'])\n",
        "batch_results_8.to_csv(\"/content/drive/MyDrive/Crosswords/baseline_results_8.csv\", encoding='cp1252')\n",
        "batch_results_9=run_batch_deterministic(sample9,['baseline_prompt'])\n",
        "batch_results_9.to_csv(\"/content/drive/MyDrive/Crosswords/baseline_results_9.csv\", encoding='cp1252')\n",
        "batch_results_10=run_batch_deterministic(sample10,['baseline_prompt'])\n",
        "batch_results_10.to_csv(\"/content/drive/MyDrive/Crosswords/baseline_results_10.csv\", encoding='cp1252')"
      ],
      "metadata": {
        "id": "r3J5uukDZEGr"
      },
      "execution_count": null,
      "outputs": []
    },
    {
      "cell_type": "code",
      "source": [
        "batch_results_1=run_batch_deterministic(sample1,['constrained_prompt'])\n",
        "batch_results_1.to_csv(\"/content/drive/MyDrive/Crosswords/constrained_results_1.csv\", encoding='cp1252')\n",
        "batch_results_2=run_batch_deterministic(sample2,['constrained_prompt'])\n",
        "batch_results_2.to_csv(\"/content/drive/MyDrive/Crosswords/constrained_results_1.csv\", encoding='cp1252')\n",
        "batch_results_3=run_batch_deterministic(sample3,['constrained_prompt'])\n",
        "batch_results_3.to_csv(\"/content/drive/MyDrive/Crosswords/constrained_results_1.csv\", encoding='cp1252')\n",
        "batch_results_4=run_batch_deterministic(sample4,['constrained_prompt'])\n",
        "batch_results_4.to_csv(\"/content/drive/MyDrive/Crosswords/constrained_results_1.csv\", encoding='cp1252')\n",
        "batch_results_5=run_batch_deterministic(sample5,['constrained_prompt'])\n",
        "batch_results_5.to_csv(\"/content/drive/MyDrive/Crosswords/constrained_results_1.csv\", encoding='cp1252')\n",
        "batch_results_6=run_batch_deterministic(sample6,['constrained_prompt'])\n",
        "batch_results_6.to_csv(\"/content/drive/MyDrive/Crosswords/constrained_results_1.csv\", encoding='cp1252')\n",
        "batch_results_7=run_batch_deterministic(sample7,['constrained_prompt'])\n",
        "batch_results_7.to_csv(\"/content/drive/MyDrive/Crosswords/constrained_results_1.csv\", encoding='cp1252')\n",
        "batch_results_8=run_batch_deterministic(sample8,['constrained_prompt'])\n",
        "batch_results_8.to_csv(\"/content/drive/MyDrive/Crosswords/constrained_results_1.csv\", encoding='cp1252')\n",
        "batch_results_9=run_batch_deterministic(sample9,['constrained_prompt'])\n",
        "batch_results_9.to_csv(\"/content/drive/MyDrive/Crosswords/constrained_results_1.csv\", encoding='cp1252')\n",
        "batch_results_10=run_batch_deterministic(sample10,['constrained_prompt'])\n",
        "batch_results_10.to_csv(\"/content/drive/MyDrive/Crosswords/constrained_results_1.csv\", encoding='cp1252')"
      ],
      "metadata": {
        "id": "w37LbPw2eyST"
      },
      "execution_count": null,
      "outputs": []
    },
    {
      "cell_type": "code",
      "source": [
        ""
      ],
      "metadata": {
        "id": "71zqW4AyjKpg"
      },
      "execution_count": null,
      "outputs": []
    },
    {
      "cell_type": "markdown",
      "source": [
        "## **One Shot**"
      ],
      "metadata": {
        "id": "cLQ3xjZggO0C"
      }
    },
    {
      "cell_type": "code",
      "source": [
        "batch_results_1=run_batch_deterministic(sample1,[\"few_shot_baseline_1\"])\n",
        "batch_results_1.to_csv(\"/content/drive/MyDrive/Crosswords/few_shot_baseline_1_results_1.csv\", encoding='cp1252')\n",
        "batch_results_2=run_batch_deterministic(sample2,[\"few_shot_baseline_1\"])\n",
        "batch_results_2.to_csv(\"/content/drive/MyDrive/Crosswords/few_shot_baseline_1_results_2.csv\", encoding='cp1252')\n",
        "batch_results_3=run_batch_deterministic(sample3,[\"few_shot_baseline_1\"])\n",
        "batch_results_3.to_csv(\"/content/drive/MyDrive/Crosswords/few_shot_baseline_1_results_3.csv\", encoding='cp1252')\n",
        "batch_results_4=run_batch_deterministic(sample4,[\"few_shot_baseline_1\"])\n",
        "batch_results_4.to_csv(\"/content/drive/MyDrive/Crosswords/few_shot_baseline_1_results_4.csv\", encoding='cp1252')\n",
        "batch_results_5=run_batch_deterministic(sample5,[\"few_shot_baseline_1\"])\n",
        "batch_results_5.to_csv(\"/content/drive/MyDrive/Crosswords/few_shot_baseline_1_results_5.csv\", encoding='cp1252')\n",
        "batch_results_6=run_batch_deterministic(sample6,[\"few_shot_baseline_1\"])\n",
        "batch_results_6.to_csv(\"/content/drive/MyDrive/Crosswords/few_shot_baseline_1_results_6.csv\", encoding='cp1252')\n",
        "batch_results_7=run_batch_deterministic(sample7,[\"few_shot_baseline_1\"])\n",
        "batch_results_7.to_csv(\"/content/drive/MyDrive/Crosswords/few_shot_baseline_1_results_7.csv\", encoding='cp1252')\n",
        "batch_results_8=run_batch_deterministic(sample8,[\"few_shot_baseline_1\"])\n",
        "batch_results_8.to_csv(\"/content/drive/MyDrive/Crosswords/few_shot_baseline_1_results_8.csv\", encoding='cp1252')\n",
        "batch_results_9=run_batch_deterministic(sample9,[\"few_shot_baseline_1\"])\n",
        "batch_results_9.to_csv(\"/content/drive/MyDrive/Crosswords/few_shot_baseline_1_results_9.csv\", encoding='cp1252')\n",
        "batch_results_10=run_batch_deterministic(sample10,[\"few_shot_baseline_1\"])\n",
        "batch_results_10.to_csv(\"/content/drive/MyDrive/Crosswords/few_shot_baseline_1_results_10.csv\", encoding='cp1252')\n"
      ],
      "metadata": {
        "id": "edQirptDfjbr"
      },
      "execution_count": null,
      "outputs": []
    },
    {
      "cell_type": "code",
      "source": [
        "batch_results_1=run_batch_deterministic(sample1,[\"few_shot_constrained_1\"])\n",
        "batch_results_1.to_csv(\"/content/drive/MyDrive/Crosswords/few_shot_constrained_1_results_1.csv\", encoding='cp1252')\n",
        "batch_results_2=run_batch_deterministic(sample2,[\"few_shot_constrained_1\"])\n",
        "batch_results_2.to_csv(\"/content/drive/MyDrive/Crosswords/few_shot_constrained_1_results_2.csv\", encoding='cp1252')\n",
        "batch_results_3=run_batch_deterministic(sample3,[\"few_shot_constrained_1\"])\n",
        "batch_results_3.to_csv(\"/content/drive/MyDrive/Crosswords/few_shot_constrained_1_results_3.csv\", encoding='cp1252')\n",
        "batch_results_4=run_batch_deterministic(sample4,[\"few_shot_constrained_1\"])\n",
        "batch_results_4.to_csv(\"/content/drive/MyDrive/Crosswords/few_shot_constrained_1_results_4.csv\", encoding='cp1252')\n",
        "batch_results_5=run_batch_deterministic(sample5,[\"few_shot_constrained_1\"])\n",
        "batch_results_5.to_csv(\"/content/drive/MyDrive/Crosswords/few_shot_constrained_1_results_5.csv\", encoding='cp1252')\n",
        "batch_results_6=run_batch_deterministic(sample6,[\"few_shot_constrained_1\"])\n",
        "batch_results_6.to_csv(\"/content/drive/MyDrive/Crosswords/few_shot_constrained_1_results_6.csv\", encoding='cp1252')\n",
        "batch_results_7=run_batch_deterministic(sample7,[\"few_shot_constrained_1\"])\n",
        "batch_results_7.to_csv(\"/content/drive/MyDrive/Crosswords/few_shot_constrained_1_results_7.csv\", encoding='cp1252')\n",
        "batch_results_8=run_batch_deterministic(sample8,[\"few_shot_constrained_1\"])\n",
        "batch_results_8.to_csv(\"/content/drive/MyDrive/Crosswords/few_shot_constrained_1_results_8.csv\", encoding='cp1252')\n",
        "batch_results_9=run_batch_deterministic(sample9,[\"few_shot_constrained_1\"])\n",
        "batch_results_9.to_csv(\"/content/drive/MyDrive/Crosswords/few_shot_constrained_1_results_9.csv\", encoding='cp1252')\n",
        "batch_results_10=run_batch_deterministic(sample10,[\"few_shot_constrained_1\"])\n",
        "batch_results_10.to_csv(\"/content/drive/MyDrive/Crosswords/few_shot_constrained_1_results_10.csv\", encoding='cp1252')"
      ],
      "metadata": {
        "id": "OKJsJDJogWPr"
      },
      "execution_count": null,
      "outputs": []
    },
    {
      "cell_type": "markdown",
      "source": [
        "## **Three Shot**"
      ],
      "metadata": {
        "id": "mmCgUKxKgWdY"
      }
    },
    {
      "cell_type": "code",
      "source": [
        "batch_results_1=run_batch_deterministic(sample1,[\"few_shot_baseline_3\"])\n",
        "batch_results_1.to_csv(\"/content/drive/MyDrive/Crosswords/few_shot_basekine_3_results_1.csv\", encoding='cp1252')\n",
        "batch_results_2=run_batch_deterministic((sample2,[\"few_shot_baseline_3\"])\n",
        "batch_results_2.to_csv(\"/content/drive/MyDrive/Crosswords/few_shot_baseline_3_results_2.csv\", encoding='cp1252')\n",
        "batch_results_3=run_batch_deterministic(sample3,[\"few_shot_baseline_3\"])\n",
        "batch_results_3.to_csv(\"/content/drive/MyDrive/Crosswords/few_shot_basline_3_results_3.csv\", encoding='cp1252')\n",
        "batch_results_4=run_batch_deterministic(sample4,[\"few_shot_baseline_3\"])\n",
        "batch_results_4.to_csv(\"/content/drive/MyDrive/Crosswords/few_shot_baseline_3_results_4.csv\", encoding='cp1252')\n",
        "batch_results_5=run_batch_deterministic(sample5,[\"few_shot_baseline_3\"])\n",
        "batch_results_5.to_csv(\"/content/drive/MyDrive/Crosswords/few_shot_baseline_3_results_5.csv\", encoding='cp1252')"
      ],
      "metadata": {
        "id": "6iXBMuM8fdQv"
      },
      "execution_count": null,
      "outputs": []
    },
    {
      "cell_type": "code",
      "source": [
        "batch_results_1=run_batch_deterministic(sample1,[\"few_shot_constrained_3\"])\n",
        "batch_results_1.to_csv(\"/content/drive/MyDrive/Crosswords/few_shot_constrained_3_results_1.csv\", encoding='cp1252')\n",
        "batch_results_2=run_batch_deterministic(sample2,[\"few_shot_constrained_3\"])\n",
        "batch_results_2.to_csv(\"/content/drive/MyDrive/Crosswords/few_shot_constrained_3_results_2.csv\", encoding='cp1252')\n",
        "batch_results_3=run_batch_deterministic(sample3,[\"few_shot_constrained_3\"])\n",
        "batch_results_3.to_csv(\"/content/drive/MyDrive/Crosswords/few_shot_constrained_3_results_3.csv\", encoding='cp1252')\n",
        "batch_results_4=run_batch_deterministic(sample4,[\"few_shot_constrained_3\"])\n",
        "batch_results_4.to_csv(\"/content/drive/MyDrive/Crosswords/few_shot_constrained_3_results_4.csv\", encoding='cp1252')\n",
        "batch_results_5=run_batch_deterministic(sample5,[\"few_shot_constrained_3\"])\n",
        "batch_results_5.to_csv(\"/content/drive/MyDrive/Crosswords/few_shot_constrained_3_results_5.csv\", encoding='cp1252')"
      ],
      "metadata": {
        "id": "eQoc_zGAfUsL"
      },
      "execution_count": null,
      "outputs": []
    },
    {
      "cell_type": "markdown",
      "source": [
        "## **Creating Master Result File**\n",
        "Sample Code"
      ],
      "metadata": {
        "id": "T6xGp5ySkLpw"
      }
    },
    {
      "cell_type": "code",
      "source": [
        "### Example code of how to concat all results back into one file\n",
        "part1=pd.read_csv(\"/content/drive/MyDrive/Crosswords/few_shot_baseline_3_results_1.csv\", encoding='cp1252',index_col=0)\n",
        "part2=pd.read_csv(\"/content/drive/MyDrive/Crosswords/few_shot_baseline_3_results_2.csv\", encoding='cp1252',index_col=0)\n",
        "part3=pd.read_csv(\"/content/drive/MyDrive/Crosswords/few_shot_baseline_3_results_3.csv\", encoding='cp1252',index_col=0)\n",
        "part4=pd.read_csv(\"/content/drive/MyDrive/Crosswords/few_shot_baseline_3_results_4.csv\", encoding='cp1252',index_col=0)\n",
        "part5=pd.read_csv(\"/content/drive/MyDrive/Crosswords/few_shot_baseline_3_results_5.csv\", encoding='cp1252',index_col=0)\n",
        "\n",
        "\n",
        "fs_baseline3=part1.append(part2,ignore_index=True)\\\n",
        ".append(part3,ignore_index=True)\\\n",
        ".append(part4,ignore_index=True)\\\n",
        ".append(part5,ignore_index=True)\\\n",
        "\n",
        "\n",
        "fs_baseline3=fs_baseline3.drop(columns=['level_0'])\n",
        "fs_baseline3.fillna('nan', inplace=True)\n",
        "fs_baseline3.to_csv(\"/content/drive/MyDrive/Crosswords/full_5k_sample_fs_baseline_3.csv\", encoding='cp1252')\n",
        "\n",
        "\n",
        "part1=pd.read_csv(\"/content/drive/MyDrive/Crosswords/few_shot_constrained_3_results_1.csv\", encoding='cp1252',index_col=0)\n",
        "part2=pd.read_csv(\"/content/drive/MyDrive/Crosswords/few_shot_constrained_3_results_2.csv\", encoding='cp1252',index_col=0)\n",
        "part3=pd.read_csv(\"/content/drive/MyDrive/Crosswords/few_shot_constrained_3_results_3.csv\", encoding='cp1252',index_col=0)\n",
        "part4=pd.read_csv(\"/content/drive/MyDrive/Crosswords/few_shot_constrained_3_results_4.csv\", encoding='cp1252',index_col=0)\n",
        "part5=pd.read_csv(\"/content/drive/MyDrive/Crosswords/few_shot_constrained_3_results_5.csv\", encoding='cp1252',index_col=0)\n",
        "\n",
        "\n",
        "fs_constrained3=part1.append(part2,ignore_index=True)\\\n",
        ".append(part3,ignore_index=True)\\\n",
        ".append(part4,ignore_index=True)\\\n",
        ".append(part5,ignore_index=True)\\\n",
        "\n",
        "\n",
        "fs_constrained3=fs_constrained3.drop(columns=['level_0'])\n",
        "fs_constrained3.fillna('nan', inplace=True)\n",
        "fs_constrained3.to_csv(\"/content/drive/MyDrive/Crosswords/full_5k_sample_fs_constrained_3.csv\", encoding='cp1252')\n"
      ],
      "metadata": {
        "id": "xmUWs28hjTCC"
      },
      "execution_count": null,
      "outputs": []
    },
    {
      "cell_type": "code",
      "source": [
        "### 6 master files can then merged into ONE MEGA FILE with all results\n",
        "\n",
        "### example of merging two files\n",
        "fs_3=pd.merge(fs_baseline3, fs_constrained3, left_index=True, right_index=True)\n",
        "fs_3.to_csv(\"/content/drive/MyDrive/Crosswords/full_5k_sample.csv\", encoding='cp1252')\")"
      ],
      "metadata": {
        "id": "wedfv-hMkXcx"
      },
      "execution_count": null,
      "outputs": []
    }
  ]
}