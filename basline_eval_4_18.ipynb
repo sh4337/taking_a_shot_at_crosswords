{
  "nbformat": 4,
  "nbformat_minor": 0,
  "metadata": {
    "colab": {
      "name": "basline_eval_4/18.ipynb",
      "provenance": []
    },
    "kernelspec": {
      "name": "python3",
      "display_name": "Python 3"
    },
    "language_info": {
      "name": "python"
    }
  },
  "cells": [
    {
      "cell_type": "code",
      "execution_count": null,
      "metadata": {
        "id": "L6pcyWmwTkcD"
      },
      "outputs": [],
      "source": [
        "import os\n",
        "import pandas as pd\n",
        "import numpy as np\n",
        "from numpy.random import rand\n",
        "from tqdm.notebook import tqdm\n",
        "from random import randint\n",
        "import inflect\n"
      ]
    },
    {
      "cell_type": "code",
      "source": [
        "from google.colab import drive\n",
        "drive.mount('/content/drive')"
      ],
      "metadata": {
        "colab": {
          "base_uri": "https://localhost:8080/"
        },
        "id": "4uHfT6TJTqtL",
        "outputId": "a3bc555a-44f5-4075-a227-afe7ef0308fa"
      },
      "execution_count": null,
      "outputs": [
        {
          "output_type": "stream",
          "name": "stdout",
          "text": [
            "Mounted at /content/drive\n"
          ]
        }
      ]
    },
    {
      "cell_type": "code",
      "source": [
        "part1=pd.read_csv(\"/content/drive/MyDrive/Crosswords/baseline/baseline_results_1.csv\", encoding='cp1252',index_col=0)\n",
        "part2=pd.read_csv(\"/content/drive/MyDrive/Crosswords/baseline/baseline_results_2.csv\", encoding='cp1252',index_col=0)\n",
        "part3=pd.read_csv(\"/content/drive/MyDrive/Crosswords/baseline/baseline_results_3.csv\", encoding='cp1252',index_col=0)\n",
        "part3=pd.read_csv(\"/content/drive/MyDrive/Crosswords/baseline/baseline_results_3.csv\", encoding='cp1252',index_col=0)\n",
        "part4=pd.read_csv(\"/content/drive/MyDrive/Crosswords/baseline/baseline_results_4.csv\", encoding='cp1252',index_col=0)\n",
        "part5=pd.read_csv(\"/content/drive/MyDrive/Crosswords/baseline/baseline_results_5.csv\", encoding='cp1252',index_col=0)\n",
        "part6=pd.read_csv(\"/content/drive/MyDrive/Crosswords/baseline/baseline_results_6.csv\", encoding='cp1252',index_col=0)\n",
        "part7=pd.read_csv(\"/content/drive/MyDrive/Crosswords/baseline/baseline_results_7.csv\", encoding='cp1252',index_col=0)\n",
        "part8=pd.read_csv(\"/content/drive/MyDrive/Crosswords/baseline/baseline_results_8.csv\", encoding='cp1252',index_col=0)\n",
        "part9=pd.read_csv(\"/content/drive/MyDrive/Crosswords/baseline/baseline_results_9.csv\", encoding='cp1252',index_col=0)\n",
        "part10=pd.read_csv(\"/content/drive/MyDrive/Crosswords/baseline/baseline_results_10.csv\", encoding='cp1252',index_col=0)\n"
      ],
      "metadata": {
        "id": "U2T2DG9DT2st"
      },
      "execution_count": null,
      "outputs": []
    },
    {
      "cell_type": "code",
      "source": [
        "baseline=part1.append(part2,ignore_index=True)\\\n",
        ".append(part3,ignore_index=True)\\\n",
        ".append(part4,ignore_index=True)\\\n",
        ".append(part5,ignore_index=True)\\\n",
        ".append(part6,ignore_index=True)\\\n",
        ".append(part7,ignore_index=True)\\\n",
        ".append(part8,ignore_index=True)\\\n",
        ".append(part9,ignore_index=True)\\\n",
        ".append(part10,ignore_index=True)\\\n",
        "\n",
        "baseline=baseline.drop(columns=['level_0'])\n",
        "baseline.fillna('nan', inplace=True)"
      ],
      "metadata": {
        "id": "LajFYqtsUH83"
      },
      "execution_count": null,
      "outputs": []
    },
    {
      "cell_type": "code",
      "source": [
        "baseline"
      ],
      "metadata": {
        "colab": {
          "base_uri": "https://localhost:8080/",
          "height": 655
        },
        "id": "bVojpzWwczcx",
        "outputId": "183c536e-e32b-4e1a-c8b3-f101cecd5b2e"
      },
      "execution_count": null,
      "outputs": [
        {
          "output_type": "execute_result",
          "data": {
            "text/plain": [
              "       index        date    answer  \\\n",
              "0     196133  2014-10-22      cent   \n",
              "1     439249  2006-02-10      todd   \n",
              "2     723490  1995-12-17      loci   \n",
              "3      41792  2020-05-06  warzones   \n",
              "4     392487  2007-10-13       ada   \n",
              "...      ...         ...       ...   \n",
              "9995  349877  2009-04-20      onea   \n",
              "9996  134585  2017-01-04      aone   \n",
              "9997  760988  1994-08-14       roy   \n",
              "9998  151161  2016-06-01    umlaut   \n",
              "9999  493016  2004-03-07    stoops   \n",
              "\n",
              "                                                   clue  answer_length  \\\n",
              "0                                               Copper.              4   \n",
              "1                              Mary in the White House.              4   \n",
              "2                                  Centers of activity.              4   \n",
              "3                      Places on travel advisory lists.              8   \n",
              "4     Lovelace who was called \"The Enchantress of Nu...              3   \n",
              "...                                                 ...            ...   \n",
              "9995                                Prime draft status.              4   \n",
              "9996                                  Best of the best.              4   \n",
              "9997                            Dale's favorite cowboy.              3   \n",
              "9998  Mark in the intersection of 17-Across and 1-Down.              6   \n",
              "9999                                     Places to sit.              6   \n",
              "\n",
              "                                        baseline_prompt baseline_prompt_output  \n",
              "0     Solve this crossword puzzle by providing a 4 l...                 ____er  \n",
              "1     Solve this crossword puzzle by providing a 4 l...                   hale  \n",
              "2     Solve this crossword puzzle by providing a 4 l...                  hubs.  \n",
              "3     Solve this crossword puzzle by providing a 8 l...              countries  \n",
              "4     Solve this crossword puzzle by providing a 3 l...                    ada  \n",
              "...                                                 ...                    ...  \n",
              "9995  Solve this crossword puzzle by providing a 4 l...                   rook  \n",
              "9996  Solve this crossword puzzle by providing a 4 l...                  aces.  \n",
              "9997  Solve this crossword puzzle by providing a 3 l...                    roy  \n",
              "9998  Solve this crossword puzzle by providing a 6 l...                 xmarks  \n",
              "9999  Solve this crossword puzzle by providing a 6 l...                chairs.  \n",
              "\n",
              "[10000 rows x 7 columns]"
            ],
            "text/html": [
              "\n",
              "  <div id=\"df-29ffcd1c-0129-4067-bd0e-824d088fcb33\">\n",
              "    <div class=\"colab-df-container\">\n",
              "      <div>\n",
              "<style scoped>\n",
              "    .dataframe tbody tr th:only-of-type {\n",
              "        vertical-align: middle;\n",
              "    }\n",
              "\n",
              "    .dataframe tbody tr th {\n",
              "        vertical-align: top;\n",
              "    }\n",
              "\n",
              "    .dataframe thead th {\n",
              "        text-align: right;\n",
              "    }\n",
              "</style>\n",
              "<table border=\"1\" class=\"dataframe\">\n",
              "  <thead>\n",
              "    <tr style=\"text-align: right;\">\n",
              "      <th></th>\n",
              "      <th>index</th>\n",
              "      <th>date</th>\n",
              "      <th>answer</th>\n",
              "      <th>clue</th>\n",
              "      <th>answer_length</th>\n",
              "      <th>baseline_prompt</th>\n",
              "      <th>baseline_prompt_output</th>\n",
              "    </tr>\n",
              "  </thead>\n",
              "  <tbody>\n",
              "    <tr>\n",
              "      <th>0</th>\n",
              "      <td>196133</td>\n",
              "      <td>2014-10-22</td>\n",
              "      <td>cent</td>\n",
              "      <td>Copper.</td>\n",
              "      <td>4</td>\n",
              "      <td>Solve this crossword puzzle by providing a 4 l...</td>\n",
              "      <td>____er</td>\n",
              "    </tr>\n",
              "    <tr>\n",
              "      <th>1</th>\n",
              "      <td>439249</td>\n",
              "      <td>2006-02-10</td>\n",
              "      <td>todd</td>\n",
              "      <td>Mary in the White House.</td>\n",
              "      <td>4</td>\n",
              "      <td>Solve this crossword puzzle by providing a 4 l...</td>\n",
              "      <td>hale</td>\n",
              "    </tr>\n",
              "    <tr>\n",
              "      <th>2</th>\n",
              "      <td>723490</td>\n",
              "      <td>1995-12-17</td>\n",
              "      <td>loci</td>\n",
              "      <td>Centers of activity.</td>\n",
              "      <td>4</td>\n",
              "      <td>Solve this crossword puzzle by providing a 4 l...</td>\n",
              "      <td>hubs.</td>\n",
              "    </tr>\n",
              "    <tr>\n",
              "      <th>3</th>\n",
              "      <td>41792</td>\n",
              "      <td>2020-05-06</td>\n",
              "      <td>warzones</td>\n",
              "      <td>Places on travel advisory lists.</td>\n",
              "      <td>8</td>\n",
              "      <td>Solve this crossword puzzle by providing a 8 l...</td>\n",
              "      <td>countries</td>\n",
              "    </tr>\n",
              "    <tr>\n",
              "      <th>4</th>\n",
              "      <td>392487</td>\n",
              "      <td>2007-10-13</td>\n",
              "      <td>ada</td>\n",
              "      <td>Lovelace who was called \"The Enchantress of Nu...</td>\n",
              "      <td>3</td>\n",
              "      <td>Solve this crossword puzzle by providing a 3 l...</td>\n",
              "      <td>ada</td>\n",
              "    </tr>\n",
              "    <tr>\n",
              "      <th>...</th>\n",
              "      <td>...</td>\n",
              "      <td>...</td>\n",
              "      <td>...</td>\n",
              "      <td>...</td>\n",
              "      <td>...</td>\n",
              "      <td>...</td>\n",
              "      <td>...</td>\n",
              "    </tr>\n",
              "    <tr>\n",
              "      <th>9995</th>\n",
              "      <td>349877</td>\n",
              "      <td>2009-04-20</td>\n",
              "      <td>onea</td>\n",
              "      <td>Prime draft status.</td>\n",
              "      <td>4</td>\n",
              "      <td>Solve this crossword puzzle by providing a 4 l...</td>\n",
              "      <td>rook</td>\n",
              "    </tr>\n",
              "    <tr>\n",
              "      <th>9996</th>\n",
              "      <td>134585</td>\n",
              "      <td>2017-01-04</td>\n",
              "      <td>aone</td>\n",
              "      <td>Best of the best.</td>\n",
              "      <td>4</td>\n",
              "      <td>Solve this crossword puzzle by providing a 4 l...</td>\n",
              "      <td>aces.</td>\n",
              "    </tr>\n",
              "    <tr>\n",
              "      <th>9997</th>\n",
              "      <td>760988</td>\n",
              "      <td>1994-08-14</td>\n",
              "      <td>roy</td>\n",
              "      <td>Dale's favorite cowboy.</td>\n",
              "      <td>3</td>\n",
              "      <td>Solve this crossword puzzle by providing a 3 l...</td>\n",
              "      <td>roy</td>\n",
              "    </tr>\n",
              "    <tr>\n",
              "      <th>9998</th>\n",
              "      <td>151161</td>\n",
              "      <td>2016-06-01</td>\n",
              "      <td>umlaut</td>\n",
              "      <td>Mark in the intersection of 17-Across and 1-Down.</td>\n",
              "      <td>6</td>\n",
              "      <td>Solve this crossword puzzle by providing a 6 l...</td>\n",
              "      <td>xmarks</td>\n",
              "    </tr>\n",
              "    <tr>\n",
              "      <th>9999</th>\n",
              "      <td>493016</td>\n",
              "      <td>2004-03-07</td>\n",
              "      <td>stoops</td>\n",
              "      <td>Places to sit.</td>\n",
              "      <td>6</td>\n",
              "      <td>Solve this crossword puzzle by providing a 6 l...</td>\n",
              "      <td>chairs.</td>\n",
              "    </tr>\n",
              "  </tbody>\n",
              "</table>\n",
              "<p>10000 rows × 7 columns</p>\n",
              "</div>\n",
              "      <button class=\"colab-df-convert\" onclick=\"convertToInteractive('df-29ffcd1c-0129-4067-bd0e-824d088fcb33')\"\n",
              "              title=\"Convert this dataframe to an interactive table.\"\n",
              "              style=\"display:none;\">\n",
              "        \n",
              "  <svg xmlns=\"http://www.w3.org/2000/svg\" height=\"24px\"viewBox=\"0 0 24 24\"\n",
              "       width=\"24px\">\n",
              "    <path d=\"M0 0h24v24H0V0z\" fill=\"none\"/>\n",
              "    <path d=\"M18.56 5.44l.94 2.06.94-2.06 2.06-.94-2.06-.94-.94-2.06-.94 2.06-2.06.94zm-11 1L8.5 8.5l.94-2.06 2.06-.94-2.06-.94L8.5 2.5l-.94 2.06-2.06.94zm10 10l.94 2.06.94-2.06 2.06-.94-2.06-.94-.94-2.06-.94 2.06-2.06.94z\"/><path d=\"M17.41 7.96l-1.37-1.37c-.4-.4-.92-.59-1.43-.59-.52 0-1.04.2-1.43.59L10.3 9.45l-7.72 7.72c-.78.78-.78 2.05 0 2.83L4 21.41c.39.39.9.59 1.41.59.51 0 1.02-.2 1.41-.59l7.78-7.78 2.81-2.81c.8-.78.8-2.07 0-2.86zM5.41 20L4 18.59l7.72-7.72 1.47 1.35L5.41 20z\"/>\n",
              "  </svg>\n",
              "      </button>\n",
              "      \n",
              "  <style>\n",
              "    .colab-df-container {\n",
              "      display:flex;\n",
              "      flex-wrap:wrap;\n",
              "      gap: 12px;\n",
              "    }\n",
              "\n",
              "    .colab-df-convert {\n",
              "      background-color: #E8F0FE;\n",
              "      border: none;\n",
              "      border-radius: 50%;\n",
              "      cursor: pointer;\n",
              "      display: none;\n",
              "      fill: #1967D2;\n",
              "      height: 32px;\n",
              "      padding: 0 0 0 0;\n",
              "      width: 32px;\n",
              "    }\n",
              "\n",
              "    .colab-df-convert:hover {\n",
              "      background-color: #E2EBFA;\n",
              "      box-shadow: 0px 1px 2px rgba(60, 64, 67, 0.3), 0px 1px 3px 1px rgba(60, 64, 67, 0.15);\n",
              "      fill: #174EA6;\n",
              "    }\n",
              "\n",
              "    [theme=dark] .colab-df-convert {\n",
              "      background-color: #3B4455;\n",
              "      fill: #D2E3FC;\n",
              "    }\n",
              "\n",
              "    [theme=dark] .colab-df-convert:hover {\n",
              "      background-color: #434B5C;\n",
              "      box-shadow: 0px 1px 3px 1px rgba(0, 0, 0, 0.15);\n",
              "      filter: drop-shadow(0px 1px 2px rgba(0, 0, 0, 0.3));\n",
              "      fill: #FFFFFF;\n",
              "    }\n",
              "  </style>\n",
              "\n",
              "      <script>\n",
              "        const buttonEl =\n",
              "          document.querySelector('#df-29ffcd1c-0129-4067-bd0e-824d088fcb33 button.colab-df-convert');\n",
              "        buttonEl.style.display =\n",
              "          google.colab.kernel.accessAllowed ? 'block' : 'none';\n",
              "\n",
              "        async function convertToInteractive(key) {\n",
              "          const element = document.querySelector('#df-29ffcd1c-0129-4067-bd0e-824d088fcb33');\n",
              "          const dataTable =\n",
              "            await google.colab.kernel.invokeFunction('convertToInteractive',\n",
              "                                                     [key], {});\n",
              "          if (!dataTable) return;\n",
              "\n",
              "          const docLinkHtml = 'Like what you see? Visit the ' +\n",
              "            '<a target=\"_blank\" href=https://colab.research.google.com/notebooks/data_table.ipynb>data table notebook</a>'\n",
              "            + ' to learn more about interactive tables.';\n",
              "          element.innerHTML = '';\n",
              "          dataTable['output_type'] = 'display_data';\n",
              "          await google.colab.output.renderOutput(dataTable, element);\n",
              "          const docLink = document.createElement('div');\n",
              "          docLink.innerHTML = docLinkHtml;\n",
              "          element.appendChild(docLink);\n",
              "        }\n",
              "      </script>\n",
              "    </div>\n",
              "  </div>\n",
              "  "
            ]
          },
          "metadata": {},
          "execution_count": 7
        }
      ]
    },
    {
      "cell_type": "code",
      "source": [
        "def acc_eval(df,batch_output_column_name):\n",
        "  acc=np.sum(df['answer']==df[batch_output_column_name])/len(df)\n",
        "  return acc"
      ],
      "metadata": {
        "id": "kF5N9vPKbNbX"
      },
      "execution_count": null,
      "outputs": []
    },
    {
      "cell_type": "code",
      "source": [
        "acc_eval(baseline,\"baseline_prompt_output\")"
      ],
      "metadata": {
        "colab": {
          "base_uri": "https://localhost:8080/"
        },
        "id": "bG9G7TgtcsdA",
        "outputId": "24ed72aa-f0ef-4ae0-cdc0-172a4d03c9d2"
      },
      "execution_count": null,
      "outputs": [
        {
          "output_type": "execute_result",
          "data": {
            "text/plain": [
              "0.2142"
            ]
          },
          "metadata": {},
          "execution_count": 52
        }
      ]
    },
    {
      "cell_type": "code",
      "source": [
        "## percentage of basline output containing non letter output\n",
        "baseline['punct'] = baseline.baseline_prompt_output.apply(lambda x:str(x).isalpha())\n",
        "non_letter=1-np.sum(baseline['punct'])/len(baseline)\n",
        "non_letter"
      ],
      "metadata": {
        "colab": {
          "base_uri": "https://localhost:8080/"
        },
        "id": "w6gAAss5c7Tc",
        "outputId": "85560314-266e-4153-8967-fadcb52e1d78"
      },
      "execution_count": null,
      "outputs": [
        {
          "output_type": "execute_result",
          "data": {
            "text/plain": [
              "0.3941"
            ]
          },
          "metadata": {},
          "execution_count": 59
        }
      ]
    },
    {
      "cell_type": "code",
      "source": [
        "baseline[]"
      ],
      "metadata": {
        "id": "Cb8GsABK5xBl"
      },
      "execution_count": null,
      "outputs": []
    },
    {
      "cell_type": "code",
      "source": [
        "## percentage of basline output with the RIGHT amout of letters\n",
        "baseline['output_length'] = baseline.baseline_prompt_output.apply(lambda x:len(str(x)))\n",
        "letter_acc=np.sum(baseline['answer_length']==baseline[\"output_length\"])/len(baseline)\n",
        "letter_acc"
      ],
      "metadata": {
        "colab": {
          "base_uri": "https://localhost:8080/"
        },
        "id": "TLnFFPtNyBe1",
        "outputId": "2bd48fb7-d14f-497e-82f3-6d31001f9db0"
      },
      "execution_count": null,
      "outputs": [
        {
          "output_type": "execute_result",
          "data": {
            "text/plain": [
              "0.4944"
            ]
          },
          "metadata": {},
          "execution_count": 54
        }
      ]
    },
    {
      "cell_type": "code",
      "source": [
        "## checking accuracy if punctuation is striped from output answers\n",
        "def strip_punct(s):\n",
        "  #print(s)\n",
        "  s = ''.join(filter(str.isalnum, s))\n",
        "  return s\n",
        "baseline['cleaned_output']=baseline.baseline_prompt_output.apply(lambda x:strip_punct(x))\n",
        "acc_eval(baseline,\"cleaned_output\")"
      ],
      "metadata": {
        "colab": {
          "base_uri": "https://localhost:8080/"
        },
        "id": "2uvQi2itzwmk",
        "outputId": "bb26865f-940d-43c4-c8fb-4bab2a7bf9bf"
      },
      "execution_count": null,
      "outputs": [
        {
          "output_type": "execute_result",
          "data": {
            "text/plain": [
              "0.2896"
            ]
          },
          "metadata": {},
          "execution_count": 56
        }
      ]
    },
    {
      "cell_type": "code",
      "source": [
        "baseline['cleaned_output_length'] = baseline.cleaned_output.apply(lambda x:len(str(x)))\n",
        "letter_acc=np.sum(baseline['answer_length']==baseline[\"cleaned_output_length\"])/len(baseline)\n",
        "letter_acc"
      ],
      "metadata": {
        "colab": {
          "base_uri": "https://localhost:8080/"
        },
        "id": "tskGaX_70Zfx",
        "outputId": "6f277c8b-d7a9-4863-cbd3-6346ae8d01e3"
      },
      "execution_count": null,
      "outputs": [
        {
          "output_type": "execute_result",
          "data": {
            "text/plain": [
              "0.6372"
            ]
          },
          "metadata": {},
          "execution_count": 57
        }
      ]
    }
  ]
}